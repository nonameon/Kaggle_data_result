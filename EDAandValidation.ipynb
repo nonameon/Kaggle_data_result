{
 "cells": [
  {
   "cell_type": "code",
   "execution_count": 1,
   "metadata": {
    "_cell_guid": "b1076dfc-b9ad-4769-8c92-a6c4dae69d19",
    "_uuid": "8f2839f25d086af736a60e9eeb907d3b93b6e0e5"
   },
   "outputs": [],
   "source": [
    "import numpy as np \n",
    "import pandas as pd \n",
    "import matplotlib.pyplot as plt\n",
    "\n",
    "import lightgbm as lgb\n",
    "from sklearn.linear_model import LinearRegression\n",
    "from sklearn.metrics import r2_score\n",
    "import sklearn\n",
    "from sklearn.metrics import mean_squared_error\n",
    "\n",
    "from itertools import product\n",
    "\n",
    "import pickle\n"
   ]
  },
  {
   "cell_type": "code",
   "execution_count": 2,
   "metadata": {
    "_cell_guid": "79c7e3d0-c299-4dcb-8224-4455121ee9b0",
    "_uuid": "d629ff2d2480ee46fbb7e2d37f6b5fab8052498a"
   },
   "outputs": [],
   "source": [
    "#Read all csv files to dataframe\n",
    "df_items = pd.read_csv(\"items.csv\")\n",
    "df_sales_train = pd.read_csv(\"sales_train.csv\")\n",
    "df_item_categories = pd.read_csv(\"item_categories.csv\")\n",
    "df_test = pd.read_csv(\"test.csv\")\n",
    "df_shops = pd.read_csv(\"shops.csv\")\n",
    "df_sample_submission = pd.read_csv(\"sample_submission.csv\")"
   ]
  },
  {
   "cell_type": "code",
   "execution_count": 3,
   "metadata": {},
   "outputs": [
    {
     "data": {
      "image/png": "[encoded data removed]",
      "text/plain": [
       "<Figure size 720x432 with 2 Axes>"
      ]
     },
     "metadata": {
      "needs_background": "light"
     },
     "output_type": "display_data"
    }
   ],
   "source": [
    "#plot the item_price and item_cnt_day so we can see the irregularities\n",
    "plt.figure(figsize=(10,6))\n",
    "plt.subplot(121)\n",
    "plt.boxplot(df_sales_train['item_price'])\n",
    "plt.title('Item Price')\n",
    "plt.subplot(122)\n",
    "plt.boxplot(df_sales_train['item_cnt_day'])\n",
    "plt.title('Item count Day')\n",
    "plt.tight_layout(pad=3)\n",
    "plt.show()"
   ]
  },
  {
   "cell_type": "code",
   "execution_count": 4,
   "metadata": {},
   "outputs": [
    {
     "name": "stdout",
     "output_type": "stream",
     "text": [
      "               date  date_block_num  shop_id  item_id  item_price  \\\n",
      "885138   17.09.2013               8       12    11365     59200.0   \n",
      "1163158  13.12.2013              11       12     6066    307980.0   \n",
      "1488135  20.03.2014              14       25    13199     50999.0   \n",
      "\n",
      "         item_cnt_day  \n",
      "885138            1.0  \n",
      "1163158           1.0  \n",
      "1488135           1.0  \n"
     ]
    }
   ],
   "source": [
    "irregular = df_sales_train[df_sales_train['item_price']> 50000]\n",
    "print(irregular)"
   ]
  },
  {
   "cell_type": "code",
   "execution_count": 5,
   "metadata": {},
   "outputs": [
    {
     "name": "stdout",
     "output_type": "stream",
     "text": [
      "1203.75\n"
     ]
    }
   ],
   "source": [
    "median = df_sales_train[(df_sales_train.item_id==11365)]['item_price'].median()\n",
    "print(median)"
   ]
  },
  {
   "cell_type": "code",
   "execution_count": 6,
   "metadata": {},
   "outputs": [
    {
     "name": "stdout",
     "output_type": "stream",
     "text": [
      "307980.0\n"
     ]
    }
   ],
   "source": [
    "median = df_sales_train[(df_sales_train.item_id==6066)]['item_price'].median()\n",
    "print(median)"
   ]
  },
  {
   "cell_type": "code",
   "execution_count": 7,
   "metadata": {},
   "outputs": [
    {
     "name": "stdout",
     "output_type": "stream",
     "text": [
      "50999.0\n"
     ]
    }
   ],
   "source": [
    "median = df_sales_train[(df_sales_train.item_id==13199)]['item_price'].median()\n",
    "print(median)"
   ]
  },
  {
   "cell_type": "code",
   "execution_count": 8,
   "metadata": {},
   "outputs": [],
   "source": [
    "#clean irregular data\n",
    "df_sales_train = df_sales_train[(df_sales_train['item_price']<50000) & (df_sales_train['item_cnt_day']<1000)]"
   ]
  },
  {
   "cell_type": "code",
   "execution_count": 9,
   "metadata": {},
   "outputs": [],
   "source": [
    "#Negative values\n",
    "df_sales_train = df_sales_train[df_sales_train['item_price'] > 0]"
   ]
  },
  {
   "cell_type": "code",
   "execution_count": 10,
   "metadata": {},
   "outputs": [
    {
     "data": {
      "text/plain": [
       "shop_id  shop_name                                      \n",
       "0        !Якутск Орджоникидзе, 56 фран                      1\n",
       "1        !Якутск ТЦ \"Центральный\" фран                      1\n",
       "2        Адыгея ТЦ \"Мега\"                                   1\n",
       "3        Балашиха ТРК \"Октябрь-Киномир\"                     1\n",
       "4        Волжский ТЦ \"Волга Молл\"                           1\n",
       "5        Вологда ТРЦ \"Мармелад\"                             1\n",
       "6        Воронеж (Плехановская, 13)                         1\n",
       "7        Воронеж ТРЦ \"Максимир\"                             1\n",
       "8        Воронеж ТРЦ Сити-Парк \"Град\"                       1\n",
       "9        Выездная Торговля                                  1\n",
       "10       Жуковский ул. Чкалова 39м?                         1\n",
       "11       Жуковский ул. Чкалова 39м²                         1\n",
       "12       Интернет-магазин ЧС                                1\n",
       "13       Казань ТЦ \"Бехетле\"                                1\n",
       "14       Казань ТЦ \"ПаркХаус\" II                            1\n",
       "15       Калуга ТРЦ \"XXI век\"                               1\n",
       "16       Коломна ТЦ \"Рио\"                                   1\n",
       "17       Красноярск ТЦ \"Взлетка Плаза\"                      1\n",
       "18       Красноярск ТЦ \"Июнь\"                               1\n",
       "19       Курск ТЦ \"Пушкинский\"                              1\n",
       "20       Москва \"Распродажа\"                                1\n",
       "21       Москва МТРЦ \"Афи Молл\"                             1\n",
       "22       Москва Магазин С21                                 1\n",
       "23       Москва ТК \"Буденовский\" (пав.А2)                   1\n",
       "24       Москва ТК \"Буденовский\" (пав.К7)                   1\n",
       "25       Москва ТРК \"Атриум\"                                1\n",
       "26       Москва ТЦ \"Ареал\" (Беляево)                        1\n",
       "27       Москва ТЦ \"МЕГА Белая Дача II\"                     1\n",
       "28       Москва ТЦ \"МЕГА Теплый Стан\" II                    1\n",
       "29       Москва ТЦ \"Новый век\" (Новокосино)                 1\n",
       "30       Москва ТЦ \"Перловский\"                             1\n",
       "31       Москва ТЦ \"Семеновский\"                            1\n",
       "32       Москва ТЦ \"Серебряный Дом\"                         1\n",
       "33       Мытищи ТРК \"XL-3\"                                  1\n",
       "34       Н.Новгород ТРЦ \"РИО\"                               1\n",
       "35       Н.Новгород ТРЦ \"Фантастика\"                        1\n",
       "36       Новосибирск ТРЦ \"Галерея Новосибирск\"              1\n",
       "37       Новосибирск ТЦ \"Мега\"                              1\n",
       "38       Омск ТЦ \"Мега\"                                     1\n",
       "39       РостовНаДону ТРК \"Мегацентр Горизонт\"              1\n",
       "40       РостовНаДону ТРК \"Мегацентр Горизонт\" Островной    1\n",
       "41       РостовНаДону ТЦ \"Мега\"                             1\n",
       "42       СПб ТК \"Невский Центр\"                             1\n",
       "43       СПб ТК \"Сенная\"                                    1\n",
       "44       Самара ТЦ \"Мелодия\"                                1\n",
       "45       Самара ТЦ \"ПаркХаус\"                               1\n",
       "46       Сергиев Посад ТЦ \"7Я\"                              1\n",
       "47       Сургут ТРЦ \"Сити Молл\"                             1\n",
       "48       Томск ТРЦ \"Изумрудный Город\"                       1\n",
       "49       Тюмень ТРЦ \"Кристалл\"                              1\n",
       "50       Тюмень ТЦ \"Гудвин\"                                 1\n",
       "51       Тюмень ТЦ \"Зеленый Берег\"                          1\n",
       "52       Уфа ТК \"Центральный\"                               1\n",
       "53       Уфа ТЦ \"Семья\" 2                                   1\n",
       "54       Химки ТЦ \"Мега\"                                    1\n",
       "55       Цифровой склад 1С-Онлайн                           1\n",
       "56       Чехов ТРЦ \"Карнавал\"                               1\n",
       "57       Якутск Орджоникидзе, 56                            1\n",
       "58       Якутск ТЦ \"Центральный\"                            1\n",
       "59       Ярославль ТЦ \"Альтаир\"                             1\n",
       "Name: shop_name, dtype: int64"
      ]
     },
     "execution_count": 10,
     "metadata": {},
     "output_type": "execute_result"
    }
   ],
   "source": [
    "#read the shop names\n",
    "df_shops['shop_name'].groupby(df_shops.shop_id).value_counts()"
   ]
  },
  {
   "cell_type": "code",
   "execution_count": 11,
   "metadata": {},
   "outputs": [],
   "source": [
    "#We found repetitive names, so we can combine them\n",
    "df_sales_train.loc[df_sales_train.shop_id == 0,'shop_id']=57\n",
    "df_test.loc[df_test.shop_id == 0,'shop_id']=57\n",
    "df_sales_train.loc[df_sales_train.shop_id == 1,'shop_id']=58\n",
    "df_test.loc[df_test.shop_id == 1,'shop_id']=58\n",
    "df_sales_train.loc[df_sales_train.shop_id == 10,'shop_id']=11\n",
    "df_test.loc[df_test.shop_id == 10,'shop_id']=11"
   ]
  },
  {
   "cell_type": "code",
   "execution_count": 12,
   "metadata": {},
   "outputs": [],
   "source": [
    "#add the item_ID we want to predict\n",
    "df_sales_train = pd.merge(df_sales_train,df_items,how='left', on=['item_id'])\n",
    "df_sales_train.fillna(0,inplace=True)"
   ]
  },
  {
   "cell_type": "code",
   "execution_count": 13,
   "metadata": {},
   "outputs": [
    {
     "data": {
      "image/png": "[encoded data removed]",
      "text/plain": [
       "<Figure size 864x360 with 1 Axes>"
      ]
     },
     "metadata": {
      "needs_background": "light"
     },
     "output_type": "display_data"
    }
   ],
   "source": [
    "month_sale = df_sales_train.groupby(['date_block_num'], as_index = False)[\"item_cnt_day\"].sum().to_numpy()\n",
    "plt.figure(figsize=(12,5))\n",
    "plt.plot(month_sale[:,0],month_sale[:,1])\n",
    "plt.xticks(np.arange(0, 34, 1.0))\n",
    "plt.show()"
   ]
  },
  {
   "cell_type": "code",
   "execution_count": 14,
   "metadata": {},
   "outputs": [],
   "source": [
    "b = (month_sale[33,1]-month_sale[0,1])/(month_sale[33,0]-month_sale[0,0])\n",
    "month_sale_trend = np.zeros((34,2))\n",
    "month_sale_average = np.zeros((34,2))\n",
    "for x in range(34):\n",
    "    y = x*b+month_sale[0,1]\n",
    "    month_sale_trend[x,0] = x\n",
    "    month_sale_trend[x,1] = y\n",
    "    month_sale_average[x,0] = x\n",
    "    month_sale_average[x,1] = month_sale[x,1] - y\n",
    "del b,x,y"
   ]
  },
  {
   "cell_type": "code",
   "execution_count": 15,
   "metadata": {},
   "outputs": [
    {
     "data": {
      "image/png": "[encoded data removed]",
      "text/plain": [
       "<Figure size 864x360 with 1 Axes>"
      ]
     },
     "metadata": {
      "needs_background": "light"
     },
     "output_type": "display_data"
    }
   ],
   "source": [
    "plt.figure(figsize=(12,5))\n",
    "plt.plot(month_sale[:,0],month_sale[:,1])\n",
    "plt.plot(month_sale_trend[:,0],month_sale_trend[:,1])\n",
    "plt.plot(month_sale_average[:,0],month_sale_average[:,1])\n",
    "plt.xticks(np.arange(0, 34, 1.0))\n",
    "plt.show()"
   ]
  },
  {
   "cell_type": "code",
   "execution_count": 16,
   "metadata": {},
   "outputs": [
    {
     "data": {
      "image/png": "[encoded data removed]",
      "text/plain": [
       "<Figure size 864x360 with 1 Axes>"
      ]
     },
     "metadata": {
      "needs_background": "light"
     },
     "output_type": "display_data"
    }
   ],
   "source": [
    "df_new = df_sales_train.groupby(['shop_id'], as_index = False)[\"item_cnt_day\"].sum().to_numpy()\n",
    "plt.figure(figsize=(12,5))\n",
    "plt.bar(df_new[:,0],df_new[:,1])\n",
    "plt.xticks(np.arange(0, 61, 1))\n",
    "plt.show()"
   ]
  },
  {
   "cell_type": "code",
   "execution_count": 17,
   "metadata": {},
   "outputs": [
    {
     "data": {
      "image/png": "[encoded data removed]",
      "text/plain": [
       "<Figure size 1440x360 with 1 Axes>"
      ]
     },
     "metadata": {
      "needs_background": "light"
     },
     "output_type": "display_data"
    }
   ],
   "source": [
    "df_new = df_sales_train.groupby(['item_category_id'], as_index = False)[\"item_cnt_day\"].sum().to_numpy()\n",
    "plt.figure(figsize=(20,5))\n",
    "plt.bar(df_new[:,0],df_new[:,1])\n",
    "plt.xticks(np.arange(0, 85, 1))\n",
    "plt.show()"
   ]
  },
  {
   "cell_type": "code",
   "execution_count": 18,
   "metadata": {},
   "outputs": [
    {
     "data": {
      "text/html": [
       "<div>\n",
       "<style scoped>\n",
       "    .dataframe tbody tr th:only-of-type {\n",
       "        vertical-align: middle;\n",
       "    }\n",
       "\n",
       "    .dataframe tbody tr th {\n",
       "        vertical-align: top;\n",
       "    }\n",
       "\n",
       "    .dataframe thead th {\n",
       "        text-align: right;\n",
       "    }\n",
       "</style>\n",
       "<table border=\"1\" class=\"dataframe\">\n",
       "  <thead>\n",
       "    <tr style=\"text-align: right;\">\n",
       "      <th></th>\n",
       "      <th>date</th>\n",
       "      <th>date_block_num</th>\n",
       "      <th>shop_id</th>\n",
       "      <th>item_id</th>\n",
       "      <th>item_price</th>\n",
       "      <th>item_cnt_day</th>\n",
       "      <th>item_name</th>\n",
       "      <th>item_category_id</th>\n",
       "      <th>ID</th>\n",
       "    </tr>\n",
       "  </thead>\n",
       "  <tbody>\n",
       "    <tr>\n",
       "      <th>3150038</th>\n",
       "      <td>0</td>\n",
       "      <td>34</td>\n",
       "      <td>45</td>\n",
       "      <td>18454</td>\n",
       "      <td>0.0</td>\n",
       "      <td>0.0</td>\n",
       "      <td>0</td>\n",
       "      <td>0.0</td>\n",
       "      <td>214195.0</td>\n",
       "    </tr>\n",
       "    <tr>\n",
       "      <th>3150039</th>\n",
       "      <td>0</td>\n",
       "      <td>34</td>\n",
       "      <td>45</td>\n",
       "      <td>16188</td>\n",
       "      <td>0.0</td>\n",
       "      <td>0.0</td>\n",
       "      <td>0</td>\n",
       "      <td>0.0</td>\n",
       "      <td>214196.0</td>\n",
       "    </tr>\n",
       "    <tr>\n",
       "      <th>3150040</th>\n",
       "      <td>0</td>\n",
       "      <td>34</td>\n",
       "      <td>45</td>\n",
       "      <td>15757</td>\n",
       "      <td>0.0</td>\n",
       "      <td>0.0</td>\n",
       "      <td>0</td>\n",
       "      <td>0.0</td>\n",
       "      <td>214197.0</td>\n",
       "    </tr>\n",
       "    <tr>\n",
       "      <th>3150041</th>\n",
       "      <td>0</td>\n",
       "      <td>34</td>\n",
       "      <td>45</td>\n",
       "      <td>19648</td>\n",
       "      <td>0.0</td>\n",
       "      <td>0.0</td>\n",
       "      <td>0</td>\n",
       "      <td>0.0</td>\n",
       "      <td>214198.0</td>\n",
       "    </tr>\n",
       "    <tr>\n",
       "      <th>3150042</th>\n",
       "      <td>0</td>\n",
       "      <td>34</td>\n",
       "      <td>45</td>\n",
       "      <td>969</td>\n",
       "      <td>0.0</td>\n",
       "      <td>0.0</td>\n",
       "      <td>0</td>\n",
       "      <td>0.0</td>\n",
       "      <td>214199.0</td>\n",
       "    </tr>\n",
       "  </tbody>\n",
       "</table>\n",
       "</div>"
      ],
      "text/plain": [
       "        date  date_block_num  shop_id  item_id  item_price  item_cnt_day  \\\n",
       "3150038    0              34       45    18454         0.0           0.0   \n",
       "3150039    0              34       45    16188         0.0           0.0   \n",
       "3150040    0              34       45    15757         0.0           0.0   \n",
       "3150041    0              34       45    19648         0.0           0.0   \n",
       "3150042    0              34       45      969         0.0           0.0   \n",
       "\n",
       "        item_name  item_category_id        ID  \n",
       "3150038         0               0.0  214195.0  \n",
       "3150039         0               0.0  214196.0  \n",
       "3150040         0               0.0  214197.0  \n",
       "3150041         0               0.0  214198.0  \n",
       "3150042         0               0.0  214199.0  "
      ]
     },
     "execution_count": 18,
     "metadata": {},
     "output_type": "execute_result"
    }
   ],
   "source": [
    "#add the test ID we want to predict\n",
    "df_test['date_block_num'] = 34\n",
    "df_sales_train = pd.concat([df_sales_train,df_test],ignore_index=True,\n",
    "                        sort = False,keys = ['date_block_num','shop_id','item_id'])\n",
    "df_sales_train.fillna(0,inplace=True)\n",
    "df_sales_train.tail()"
   ]
  },
  {
   "cell_type": "code",
   "execution_count": 19,
   "metadata": {},
   "outputs": [
    {
     "data": {
      "text/html": [
       "<div>\n",
       "<style scoped>\n",
       "    .dataframe tbody tr th:only-of-type {\n",
       "        vertical-align: middle;\n",
       "    }\n",
       "\n",
       "    .dataframe tbody tr th {\n",
       "        vertical-align: top;\n",
       "    }\n",
       "\n",
       "    .dataframe thead th {\n",
       "        text-align: right;\n",
       "    }\n",
       "</style>\n",
       "<table border=\"1\" class=\"dataframe\">\n",
       "  <thead>\n",
       "    <tr style=\"text-align: right;\">\n",
       "      <th></th>\n",
       "      <th>shop_id</th>\n",
       "      <th>item_id</th>\n",
       "      <th>date_block_num</th>\n",
       "    </tr>\n",
       "  </thead>\n",
       "  <tbody>\n",
       "    <tr>\n",
       "      <th>0</th>\n",
       "      <td>59</td>\n",
       "      <td>22154</td>\n",
       "      <td>0</td>\n",
       "    </tr>\n",
       "    <tr>\n",
       "      <th>1</th>\n",
       "      <td>59</td>\n",
       "      <td>2552</td>\n",
       "      <td>0</td>\n",
       "    </tr>\n",
       "    <tr>\n",
       "      <th>2</th>\n",
       "      <td>59</td>\n",
       "      <td>2554</td>\n",
       "      <td>0</td>\n",
       "    </tr>\n",
       "    <tr>\n",
       "      <th>3</th>\n",
       "      <td>59</td>\n",
       "      <td>2555</td>\n",
       "      <td>0</td>\n",
       "    </tr>\n",
       "    <tr>\n",
       "      <th>4</th>\n",
       "      <td>59</td>\n",
       "      <td>2564</td>\n",
       "      <td>0</td>\n",
       "    </tr>\n",
       "  </tbody>\n",
       "</table>\n",
       "</div>"
      ],
      "text/plain": [
       "   shop_id  item_id  date_block_num\n",
       "0       59    22154               0\n",
       "1       59     2552               0\n",
       "2       59     2554               0\n",
       "3       59     2555               0\n",
       "4       59     2564               0"
      ]
     },
     "execution_count": 19,
     "metadata": {},
     "output_type": "execute_result"
    }
   ],
   "source": [
    "# Create \"grid\" with columns\n",
    "index_cols = ['shop_id', 'item_id', 'date_block_num']\n",
    "\n",
    "# For every month we create a grid from all shops/items combinations from that month\n",
    "grid = [] \n",
    "for block_num in df_sales_train['date_block_num'].unique():\n",
    "    cur_shops = df_sales_train.loc[df_sales_train['date_block_num'] == block_num, 'shop_id'].unique()\n",
    "    cur_items = df_sales_train.loc[df_sales_train['date_block_num'] == block_num, 'item_id'].unique()\n",
    "    grid.append(np.array(list(product(*[cur_shops, cur_items, [block_num]])),dtype='int16'))\n",
    "\n",
    "# Turn the grid into a dataframe\n",
    "grid = pd.DataFrame(np.vstack(grid), columns = index_cols,dtype=np.int32)\n",
    "grid.head()"
   ]
  },
  {
   "cell_type": "code",
   "execution_count": 20,
   "metadata": {},
   "outputs": [
    {
     "data": {
      "text/html": [
       "<div>\n",
       "<style scoped>\n",
       "    .dataframe tbody tr th:only-of-type {\n",
       "        vertical-align: middle;\n",
       "    }\n",
       "\n",
       "    .dataframe tbody tr th {\n",
       "        vertical-align: top;\n",
       "    }\n",
       "\n",
       "    .dataframe thead th {\n",
       "        text-align: right;\n",
       "    }\n",
       "</style>\n",
       "<table border=\"1\" class=\"dataframe\">\n",
       "  <thead>\n",
       "    <tr style=\"text-align: right;\">\n",
       "      <th></th>\n",
       "      <th>shop_id</th>\n",
       "      <th>item_id</th>\n",
       "      <th>date_block_num</th>\n",
       "      <th>target</th>\n",
       "    </tr>\n",
       "  </thead>\n",
       "  <tbody>\n",
       "    <tr>\n",
       "      <th>0</th>\n",
       "      <td>59</td>\n",
       "      <td>22154</td>\n",
       "      <td>0</td>\n",
       "      <td>1.0</td>\n",
       "    </tr>\n",
       "    <tr>\n",
       "      <th>1</th>\n",
       "      <td>59</td>\n",
       "      <td>2552</td>\n",
       "      <td>0</td>\n",
       "      <td>0.0</td>\n",
       "    </tr>\n",
       "    <tr>\n",
       "      <th>2</th>\n",
       "      <td>59</td>\n",
       "      <td>2554</td>\n",
       "      <td>0</td>\n",
       "      <td>0.0</td>\n",
       "    </tr>\n",
       "    <tr>\n",
       "      <th>3</th>\n",
       "      <td>59</td>\n",
       "      <td>2555</td>\n",
       "      <td>0</td>\n",
       "      <td>0.0</td>\n",
       "    </tr>\n",
       "    <tr>\n",
       "      <th>4</th>\n",
       "      <td>59</td>\n",
       "      <td>2564</td>\n",
       "      <td>0</td>\n",
       "      <td>0.0</td>\n",
       "    </tr>\n",
       "  </tbody>\n",
       "</table>\n",
       "</div>"
      ],
      "text/plain": [
       "   shop_id  item_id  date_block_num  target\n",
       "0       59    22154               0     1.0\n",
       "1       59     2552               0     0.0\n",
       "2       59     2554               0     0.0\n",
       "3       59     2555               0     0.0\n",
       "4       59     2564               0     0.0"
      ]
     },
     "execution_count": 20,
     "metadata": {},
     "output_type": "execute_result"
    }
   ],
   "source": [
    "#Create a column with month count\n",
    "df_new = df_sales_train.groupby(index_cols,as_index=False)[\"item_cnt_day\"].sum()\n",
    "df_new = df_new.rename(columns = {\"item_cnt_day\": \"target\"})\n",
    "all_data = pd.merge(grid, df_new, how='left', on=index_cols).fillna(0)\n",
    "all_data.head()"
   ]
  },
  {
   "cell_type": "code",
   "execution_count": 21,
   "metadata": {},
   "outputs": [
    {
     "data": {
      "text/html": [
       "<div>\n",
       "<style scoped>\n",
       "    .dataframe tbody tr th:only-of-type {\n",
       "        vertical-align: middle;\n",
       "    }\n",
       "\n",
       "    .dataframe tbody tr th {\n",
       "        vertical-align: top;\n",
       "    }\n",
       "\n",
       "    .dataframe thead th {\n",
       "        text-align: right;\n",
       "    }\n",
       "</style>\n",
       "<table border=\"1\" class=\"dataframe\">\n",
       "  <thead>\n",
       "    <tr style=\"text-align: right;\">\n",
       "      <th></th>\n",
       "      <th>shop_id</th>\n",
       "      <th>item_id</th>\n",
       "      <th>date_block_num</th>\n",
       "      <th>target</th>\n",
       "      <th>target_shop</th>\n",
       "    </tr>\n",
       "  </thead>\n",
       "  <tbody>\n",
       "    <tr>\n",
       "      <th>0</th>\n",
       "      <td>59</td>\n",
       "      <td>22154</td>\n",
       "      <td>0</td>\n",
       "      <td>1.0</td>\n",
       "      <td>2017.0</td>\n",
       "    </tr>\n",
       "    <tr>\n",
       "      <th>1</th>\n",
       "      <td>59</td>\n",
       "      <td>2552</td>\n",
       "      <td>0</td>\n",
       "      <td>0.0</td>\n",
       "      <td>2017.0</td>\n",
       "    </tr>\n",
       "    <tr>\n",
       "      <th>2</th>\n",
       "      <td>59</td>\n",
       "      <td>2554</td>\n",
       "      <td>0</td>\n",
       "      <td>0.0</td>\n",
       "      <td>2017.0</td>\n",
       "    </tr>\n",
       "    <tr>\n",
       "      <th>3</th>\n",
       "      <td>59</td>\n",
       "      <td>2555</td>\n",
       "      <td>0</td>\n",
       "      <td>0.0</td>\n",
       "      <td>2017.0</td>\n",
       "    </tr>\n",
       "    <tr>\n",
       "      <th>4</th>\n",
       "      <td>59</td>\n",
       "      <td>2564</td>\n",
       "      <td>0</td>\n",
       "      <td>0.0</td>\n",
       "      <td>2017.0</td>\n",
       "    </tr>\n",
       "  </tbody>\n",
       "</table>\n",
       "</div>"
      ],
      "text/plain": [
       "   shop_id  item_id  date_block_num  target  target_shop\n",
       "0       59    22154               0     1.0       2017.0\n",
       "1       59     2552               0     0.0       2017.0\n",
       "2       59     2554               0     0.0       2017.0\n",
       "3       59     2555               0     0.0       2017.0\n",
       "4       59     2564               0     0.0       2017.0"
      ]
     },
     "execution_count": 21,
     "metadata": {},
     "output_type": "execute_result"
    }
   ],
   "source": [
    "#Create a column with mean encoded shop_id\n",
    "df_new = df_sales_train.groupby(['shop_id', 'date_block_num'],as_index=False)[\"item_cnt_day\"].sum()\n",
    "df_new = df_new.rename(columns = {\"item_cnt_day\": \"target_shop\"})\n",
    "all_data = pd.merge(all_data, df_new, how='left', on=['shop_id', 'date_block_num']).fillna(0)\n",
    "all_data.head()"
   ]
  },
  {
   "cell_type": "code",
   "execution_count": 22,
   "metadata": {},
   "outputs": [
    {
     "data": {
      "text/html": [
       "<div>\n",
       "<style scoped>\n",
       "    .dataframe tbody tr th:only-of-type {\n",
       "        vertical-align: middle;\n",
       "    }\n",
       "\n",
       "    .dataframe tbody tr th {\n",
       "        vertical-align: top;\n",
       "    }\n",
       "\n",
       "    .dataframe thead th {\n",
       "        text-align: right;\n",
       "    }\n",
       "</style>\n",
       "<table border=\"1\" class=\"dataframe\">\n",
       "  <thead>\n",
       "    <tr style=\"text-align: right;\">\n",
       "      <th></th>\n",
       "      <th>shop_id</th>\n",
       "      <th>item_id</th>\n",
       "      <th>date_block_num</th>\n",
       "      <th>target</th>\n",
       "      <th>target_shop</th>\n",
       "      <th>target_item</th>\n",
       "    </tr>\n",
       "  </thead>\n",
       "  <tbody>\n",
       "    <tr>\n",
       "      <th>0</th>\n",
       "      <td>59</td>\n",
       "      <td>22154</td>\n",
       "      <td>0</td>\n",
       "      <td>1.0</td>\n",
       "      <td>2017.0</td>\n",
       "      <td>18.0</td>\n",
       "    </tr>\n",
       "    <tr>\n",
       "      <th>1</th>\n",
       "      <td>59</td>\n",
       "      <td>2552</td>\n",
       "      <td>0</td>\n",
       "      <td>0.0</td>\n",
       "      <td>2017.0</td>\n",
       "      <td>0.0</td>\n",
       "    </tr>\n",
       "    <tr>\n",
       "      <th>2</th>\n",
       "      <td>59</td>\n",
       "      <td>2554</td>\n",
       "      <td>0</td>\n",
       "      <td>0.0</td>\n",
       "      <td>2017.0</td>\n",
       "      <td>1.0</td>\n",
       "    </tr>\n",
       "    <tr>\n",
       "      <th>3</th>\n",
       "      <td>59</td>\n",
       "      <td>2555</td>\n",
       "      <td>0</td>\n",
       "      <td>0.0</td>\n",
       "      <td>2017.0</td>\n",
       "      <td>2.0</td>\n",
       "    </tr>\n",
       "    <tr>\n",
       "      <th>4</th>\n",
       "      <td>59</td>\n",
       "      <td>2564</td>\n",
       "      <td>0</td>\n",
       "      <td>0.0</td>\n",
       "      <td>2017.0</td>\n",
       "      <td>5.0</td>\n",
       "    </tr>\n",
       "  </tbody>\n",
       "</table>\n",
       "</div>"
      ],
      "text/plain": [
       "   shop_id  item_id  date_block_num  target  target_shop  target_item\n",
       "0       59    22154               0     1.0       2017.0         18.0\n",
       "1       59     2552               0     0.0       2017.0          0.0\n",
       "2       59     2554               0     0.0       2017.0          1.0\n",
       "3       59     2555               0     0.0       2017.0          2.0\n",
       "4       59     2564               0     0.0       2017.0          5.0"
      ]
     },
     "execution_count": 22,
     "metadata": {},
     "output_type": "execute_result"
    }
   ],
   "source": [
    "#Create a column with mean encoded item_id\n",
    "df_new = df_sales_train.groupby(['item_id', 'date_block_num'],as_index=False)[\"item_cnt_day\"].sum()\n",
    "df_new = df_new.rename(columns = {\"item_cnt_day\": \"target_item\"})\n",
    "all_data = pd.merge(all_data, df_new, how='left', on=['item_id', 'date_block_num']).fillna(0)\n",
    "all_data.head()"
   ]
  },
  {
   "cell_type": "code",
   "execution_count": 23,
   "metadata": {},
   "outputs": [],
   "source": [
    "del grid, df_new"
   ]
  },
  {
   "cell_type": "code",
   "execution_count": 24,
   "metadata": {},
   "outputs": [
    {
     "data": {
      "text/plain": [
       "['target', 'target_item', 'target_shop']"
      ]
     },
     "execution_count": 24,
     "metadata": {},
     "output_type": "execute_result"
    }
   ],
   "source": [
    "#Names of new columns\n",
    "cols_to_rename = list(all_data.columns.difference(index_cols)) \n",
    "cols_to_rename"
   ]
  },
  {
   "cell_type": "code",
   "execution_count": 25,
   "metadata": {},
   "outputs": [],
   "source": [
    "shift_range = [1, 2, 3, 4, 5, 12]\n",
    "\n",
    "for month_shift in shift_range:\n",
    "\n",
    "    train_shift = all_data[index_cols + cols_to_rename].copy()\n",
    "    \n",
    "    train_shift['date_block_num'] = train_shift['date_block_num'] + month_shift\n",
    "    \n",
    "    foo = lambda x: '{}_lag_{}'.format(x, month_shift) if x in cols_to_rename else x\n",
    "    train_shift = train_shift.rename(columns=foo)\n",
    "\n",
    "    all_data = pd.merge(all_data, train_shift, on=index_cols, how='left').fillna(0)\n",
    "\n",
    "del train_shift\n"
   ]
  },
  {
   "cell_type": "code",
   "execution_count": 26,
   "metadata": {},
   "outputs": [
    {
     "data": {
      "text/html": [
       "<div>\n",
       "<style scoped>\n",
       "    .dataframe tbody tr th:only-of-type {\n",
       "        vertical-align: middle;\n",
       "    }\n",
       "\n",
       "    .dataframe tbody tr th {\n",
       "        vertical-align: top;\n",
       "    }\n",
       "\n",
       "    .dataframe thead th {\n",
       "        text-align: right;\n",
       "    }\n",
       "</style>\n",
       "<table border=\"1\" class=\"dataframe\">\n",
       "  <thead>\n",
       "    <tr style=\"text-align: right;\">\n",
       "      <th></th>\n",
       "      <th>11127951</th>\n",
       "      <th>11127952</th>\n",
       "      <th>11127953</th>\n",
       "      <th>11127954</th>\n",
       "      <th>11127955</th>\n",
       "    </tr>\n",
       "  </thead>\n",
       "  <tbody>\n",
       "    <tr>\n",
       "      <th>shop_id</th>\n",
       "      <td>45.0</td>\n",
       "      <td>45.0</td>\n",
       "      <td>45.0</td>\n",
       "      <td>45.0</td>\n",
       "      <td>45.0</td>\n",
       "    </tr>\n",
       "    <tr>\n",
       "      <th>item_id</th>\n",
       "      <td>18454.0</td>\n",
       "      <td>16188.0</td>\n",
       "      <td>15757.0</td>\n",
       "      <td>19648.0</td>\n",
       "      <td>969.0</td>\n",
       "    </tr>\n",
       "    <tr>\n",
       "      <th>date_block_num</th>\n",
       "      <td>34.0</td>\n",
       "      <td>34.0</td>\n",
       "      <td>34.0</td>\n",
       "      <td>34.0</td>\n",
       "      <td>34.0</td>\n",
       "    </tr>\n",
       "    <tr>\n",
       "      <th>target</th>\n",
       "      <td>0.0</td>\n",
       "      <td>0.0</td>\n",
       "      <td>0.0</td>\n",
       "      <td>0.0</td>\n",
       "      <td>0.0</td>\n",
       "    </tr>\n",
       "    <tr>\n",
       "      <th>target_shop</th>\n",
       "      <td>0.0</td>\n",
       "      <td>0.0</td>\n",
       "      <td>0.0</td>\n",
       "      <td>0.0</td>\n",
       "      <td>0.0</td>\n",
       "    </tr>\n",
       "    <tr>\n",
       "      <th>target_item</th>\n",
       "      <td>0.0</td>\n",
       "      <td>0.0</td>\n",
       "      <td>0.0</td>\n",
       "      <td>0.0</td>\n",
       "      <td>0.0</td>\n",
       "    </tr>\n",
       "    <tr>\n",
       "      <th>target_lag_1</th>\n",
       "      <td>1.0</td>\n",
       "      <td>0.0</td>\n",
       "      <td>0.0</td>\n",
       "      <td>0.0</td>\n",
       "      <td>0.0</td>\n",
       "    </tr>\n",
       "    <tr>\n",
       "      <th>target_item_lag_1</th>\n",
       "      <td>2.0</td>\n",
       "      <td>1.0</td>\n",
       "      <td>5.0</td>\n",
       "      <td>2.0</td>\n",
       "      <td>3.0</td>\n",
       "    </tr>\n",
       "    <tr>\n",
       "      <th>target_shop_lag_1</th>\n",
       "      <td>702.0</td>\n",
       "      <td>702.0</td>\n",
       "      <td>702.0</td>\n",
       "      <td>702.0</td>\n",
       "      <td>702.0</td>\n",
       "    </tr>\n",
       "    <tr>\n",
       "      <th>target_lag_2</th>\n",
       "      <td>0.0</td>\n",
       "      <td>0.0</td>\n",
       "      <td>0.0</td>\n",
       "      <td>0.0</td>\n",
       "      <td>0.0</td>\n",
       "    </tr>\n",
       "    <tr>\n",
       "      <th>target_item_lag_2</th>\n",
       "      <td>1.0</td>\n",
       "      <td>3.0</td>\n",
       "      <td>3.0</td>\n",
       "      <td>3.0</td>\n",
       "      <td>5.0</td>\n",
       "    </tr>\n",
       "    <tr>\n",
       "      <th>target_shop_lag_2</th>\n",
       "      <td>654.0</td>\n",
       "      <td>654.0</td>\n",
       "      <td>654.0</td>\n",
       "      <td>654.0</td>\n",
       "      <td>654.0</td>\n",
       "    </tr>\n",
       "    <tr>\n",
       "      <th>target_lag_3</th>\n",
       "      <td>0.0</td>\n",
       "      <td>0.0</td>\n",
       "      <td>0.0</td>\n",
       "      <td>0.0</td>\n",
       "      <td>0.0</td>\n",
       "    </tr>\n",
       "    <tr>\n",
       "      <th>target_item_lag_3</th>\n",
       "      <td>3.0</td>\n",
       "      <td>0.0</td>\n",
       "      <td>4.0</td>\n",
       "      <td>7.0</td>\n",
       "      <td>1.0</td>\n",
       "    </tr>\n",
       "    <tr>\n",
       "      <th>target_shop_lag_3</th>\n",
       "      <td>710.0</td>\n",
       "      <td>0.0</td>\n",
       "      <td>710.0</td>\n",
       "      <td>710.0</td>\n",
       "      <td>710.0</td>\n",
       "    </tr>\n",
       "    <tr>\n",
       "      <th>target_lag_4</th>\n",
       "      <td>0.0</td>\n",
       "      <td>0.0</td>\n",
       "      <td>0.0</td>\n",
       "      <td>0.0</td>\n",
       "      <td>0.0</td>\n",
       "    </tr>\n",
       "    <tr>\n",
       "      <th>target_item_lag_4</th>\n",
       "      <td>12.0</td>\n",
       "      <td>0.0</td>\n",
       "      <td>4.0</td>\n",
       "      <td>2.0</td>\n",
       "      <td>2.0</td>\n",
       "    </tr>\n",
       "    <tr>\n",
       "      <th>target_shop_lag_4</th>\n",
       "      <td>675.0</td>\n",
       "      <td>0.0</td>\n",
       "      <td>675.0</td>\n",
       "      <td>675.0</td>\n",
       "      <td>675.0</td>\n",
       "    </tr>\n",
       "    <tr>\n",
       "      <th>target_lag_5</th>\n",
       "      <td>0.0</td>\n",
       "      <td>0.0</td>\n",
       "      <td>0.0</td>\n",
       "      <td>0.0</td>\n",
       "      <td>0.0</td>\n",
       "    </tr>\n",
       "    <tr>\n",
       "      <th>target_item_lag_5</th>\n",
       "      <td>19.0</td>\n",
       "      <td>0.0</td>\n",
       "      <td>8.0</td>\n",
       "      <td>4.0</td>\n",
       "      <td>2.0</td>\n",
       "    </tr>\n",
       "    <tr>\n",
       "      <th>target_shop_lag_5</th>\n",
       "      <td>622.0</td>\n",
       "      <td>0.0</td>\n",
       "      <td>622.0</td>\n",
       "      <td>622.0</td>\n",
       "      <td>622.0</td>\n",
       "    </tr>\n",
       "    <tr>\n",
       "      <th>target_lag_12</th>\n",
       "      <td>0.0</td>\n",
       "      <td>0.0</td>\n",
       "      <td>0.0</td>\n",
       "      <td>0.0</td>\n",
       "      <td>0.0</td>\n",
       "    </tr>\n",
       "    <tr>\n",
       "      <th>target_item_lag_12</th>\n",
       "      <td>0.0</td>\n",
       "      <td>0.0</td>\n",
       "      <td>9.0</td>\n",
       "      <td>0.0</td>\n",
       "      <td>6.0</td>\n",
       "    </tr>\n",
       "    <tr>\n",
       "      <th>target_shop_lag_12</th>\n",
       "      <td>0.0</td>\n",
       "      <td>0.0</td>\n",
       "      <td>1251.0</td>\n",
       "      <td>0.0</td>\n",
       "      <td>1251.0</td>\n",
       "    </tr>\n",
       "  </tbody>\n",
       "</table>\n",
       "</div>"
      ],
      "text/plain": [
       "                    11127951  11127952  11127953  11127954  11127955\n",
       "shop_id                 45.0      45.0      45.0      45.0      45.0\n",
       "item_id              18454.0   16188.0   15757.0   19648.0     969.0\n",
       "date_block_num          34.0      34.0      34.0      34.0      34.0\n",
       "target                   0.0       0.0       0.0       0.0       0.0\n",
       "target_shop              0.0       0.0       0.0       0.0       0.0\n",
       "target_item              0.0       0.0       0.0       0.0       0.0\n",
       "target_lag_1             1.0       0.0       0.0       0.0       0.0\n",
       "target_item_lag_1        2.0       1.0       5.0       2.0       3.0\n",
       "target_shop_lag_1      702.0     702.0     702.0     702.0     702.0\n",
       "target_lag_2             0.0       0.0       0.0       0.0       0.0\n",
       "target_item_lag_2        1.0       3.0       3.0       3.0       5.0\n",
       "target_shop_lag_2      654.0     654.0     654.0     654.0     654.0\n",
       "target_lag_3             0.0       0.0       0.0       0.0       0.0\n",
       "target_item_lag_3        3.0       0.0       4.0       7.0       1.0\n",
       "target_shop_lag_3      710.0       0.0     710.0     710.0     710.0\n",
       "target_lag_4             0.0       0.0       0.0       0.0       0.0\n",
       "target_item_lag_4       12.0       0.0       4.0       2.0       2.0\n",
       "target_shop_lag_4      675.0       0.0     675.0     675.0     675.0\n",
       "target_lag_5             0.0       0.0       0.0       0.0       0.0\n",
       "target_item_lag_5       19.0       0.0       8.0       4.0       2.0\n",
       "target_shop_lag_5      622.0       0.0     622.0     622.0     622.0\n",
       "target_lag_12            0.0       0.0       0.0       0.0       0.0\n",
       "target_item_lag_12       0.0       0.0       9.0       0.0       6.0\n",
       "target_shop_lag_12       0.0       0.0    1251.0       0.0    1251.0"
      ]
     },
     "execution_count": 26,
     "metadata": {},
     "output_type": "execute_result"
    }
   ],
   "source": [
    "all_data.tail().transpose()"
   ]
  },
  {
   "cell_type": "code",
   "execution_count": 27,
   "metadata": {},
   "outputs": [],
   "source": [
    "# Don't use old data from year 2013\n",
    "all_data = all_data[all_data['date_block_num'] >= 12] "
   ]
  },
  {
   "cell_type": "code",
   "execution_count": 28,
   "metadata": {},
   "outputs": [],
   "source": [
    "# We will drop these at fitting stage\n",
    "to_drop_cols = ['target', 'target_shop', 'target_item', 'date_block_num']\n",
    "\n",
    "# Category for each item\n",
    "item_category_mapping = df_items[['item_id','item_category_id']].drop_duplicates()\n",
    "\n",
    "all_data = pd.merge(all_data, item_category_mapping, how='left', on='item_id')\n",
    "all_data.to_pickle(\"data.pkl\")\n",
    "del all_data"
   ]
  },
  {
   "cell_type": "code",
   "execution_count": 29,
   "metadata": {},
   "outputs": [],
   "source": [
    "#Train/Split\n",
    "#For a sake of the programming assignment, let's artificially split the data into train and test. We will treat last month data as the test set."
   ]
  },
  {
   "cell_type": "code",
   "execution_count": 30,
   "metadata": {},
   "outputs": [],
   "source": [
    "# Save `date_block_num`, as we can't use them as features, but will need them to split the dataset into parts \n",
    "all_data = pd.read_pickle(\"data.pkl\")\n",
    "dates = all_data['date_block_num']"
   ]
  },
  {
   "cell_type": "code",
   "execution_count": 31,
   "metadata": {},
   "outputs": [],
   "source": [
    "dates_train = dates[dates < 33]\n",
    "dates_target  = dates[dates == 33]\n",
    "\n",
    "X_train = all_data.loc[dates <  33].drop(to_drop_cols, axis=1)\n",
    "X_test =  all_data.loc[dates == 33].drop(to_drop_cols, axis=1)\n",
    "\n",
    "y_train = all_data.loc[dates <  33, 'target'].values\n",
    "y_test =  all_data.loc[dates == 33, 'target'].values\n"
   ]
  },
  {
   "cell_type": "code",
   "execution_count": 32,
   "metadata": {},
   "outputs": [
    {
     "name": "stdout",
     "output_type": "stream",
     "text": [
      "2.52270713567186\n"
     ]
    }
   ],
   "source": [
    "#we will run linear regression on numeric columns and get predictions for the last month.\n",
    "\n",
    "lr = LinearRegression()\n",
    "lr.fit(X_train.values, y_train)\n",
    "pred_lr = lr.predict(X_test.values)\n",
    "mse = mean_squared_error(pred_lr, y_test, squared=False)\n",
    "print(mse)"
   ]
  },
  {
   "cell_type": "code",
   "execution_count": 33,
   "metadata": {},
   "outputs": [
    {
     "name": "stdout",
     "output_type": "stream",
     "text": [
      "2.507335809822127\n"
     ]
    }
   ],
   "source": [
    "#lgb model\n",
    "lgb_params = {\n",
    "\n",
    "            'feature_fraction': 0.75,\n",
    "            'metric': 'rmse',\n",
    "           'nthread':1, \n",
    "           'min_data_in_leaf': 2**7, \n",
    "           'bagging_fraction': 0.75, \n",
    "           'learning_rate': 0.03, \n",
    "           'objective': 'mse', \n",
    "           'bagging_seed': 2**7, \n",
    "           'num_leaves': 2**7,\n",
    "           'bagging_freq':1,\n",
    "           'verbose':0 \n",
    "          }\n",
    "\n",
    "model = lgb.train(lgb_params, lgb.Dataset(X_train, label=y_train), 100)\n",
    "pred_lgb = model.predict(X_test)\n",
    "mse = mean_squared_error(pred_lgb, y_test, squared=False)\n",
    "print(mse)"
   ]
  },
  {
   "cell_type": "code",
   "execution_count": 34,
   "metadata": {},
   "outputs": [
    {
     "data": {
      "text/plain": [
       "array([[0.12629944, 0.05817722],\n",
       "       [0.79221693, 0.82198447],\n",
       "       [0.9967755 , 0.5318341 ],\n",
       "       ...,\n",
       "       [0.10347263, 0.21777319],\n",
       "       [0.12692807, 0.06040953],\n",
       "       [0.0498505 , 0.0438579 ]])"
      ]
     },
     "execution_count": 34,
     "metadata": {},
     "output_type": "execute_result"
    }
   ],
   "source": [
    "X_test_level2 = np.c_[pred_lr, pred_lgb]\n",
    "X_test_level2"
   ]
  },
  {
   "cell_type": "code",
   "execution_count": 35,
   "metadata": {},
   "outputs": [],
   "source": [
    "# get target for the 2nd level dataset\n",
    "y_train_level2 = y_train[dates_train.isin([26, 27, 28, 29, 30, 31, 32])]"
   ]
  },
  {
   "cell_type": "code",
   "execution_count": 36,
   "metadata": {},
   "outputs": [],
   "source": [
    "#And here we create 2nd level feeature matrix, init it with zeros first\n",
    "X_train_level2 = np.zeros([y_train_level2.shape[0], 2])"
   ]
  },
  {
   "cell_type": "code",
   "execution_count": null,
   "metadata": {},
   "outputs": [],
   "source": [
    "#training with metafeatures\n",
    "xposition = 0 \n",
    "# Now fill `X_train_level2` with metafeatures\n",
    "for cur_block_num in [26, 27, 28, 29, 30, 31, 32]:\n",
    "    \n",
    "    X_train = all_data.loc[dates <  cur_block_num].drop(to_drop_cols, axis=1)\n",
    "    X_test =  all_data.loc[dates == cur_block_num].drop(to_drop_cols, axis=1)\n",
    "\n",
    "    y_train = all_data.loc[dates <  cur_block_num, 'target'].values\n",
    "\n",
    "    lr.fit(X_train.values, y_train)\n",
    "    pred_lr = lr.predict(X_test.values)\n",
    "    \n",
    "    model = lgb.train(lgb_params, lgb.Dataset(X_train, label=y_train), 100)\n",
    "    pred_lgb = model.predict(X_test)\n",
    "    \n",
    "    dates_train_level2 = np.c_[pred_lr, pred_lgb] \n",
    "    \n",
    "    X_train_level2[xposition:(xposition + X_test.shape[0])]=dates_train_level2\n",
    "    xposition = xposition + X_test.shape[0] "
   ]
  },
  {
   "cell_type": "code",
   "execution_count": null,
   "metadata": {},
   "outputs": [],
   "source": [
    "#simple convex mix\n",
    "alphas_to_try = np.linspace(0, 1, 1001)\n",
    "\n",
    "error = 1000\n",
    "for a in alphas_to_try:\n",
    "    mix = a * X_train_level2[:,0] + (1 - a) * X_train_level2[:,1]\n",
    "    mse = sklearn.metrics.mean_squared_error(mix, y_train_level2)\n",
    "    if mse < error:\n",
    "        best_alpha = a\n",
    "        r2_train_simple_mix = sklearn.metrics.r2_score(y_train_level2, mix)\n",
    "        error = mse\n",
    "\n",
    "print('Best alpha: %f; Corresponding r2 score on train: %f' % (best_alpha, r2_train_simple_mix))"
   ]
  },
  {
   "cell_type": "code",
   "execution_count": null,
   "metadata": {},
   "outputs": [],
   "source": [
    "test_preds = best_alpha * X_test_level2[:,0] + (1 - best_alpha) * X_test_level2[:,1]\n",
    "mse = mean_squared_error(test_preds, y_test, squared=False)\n",
    "print(mse)"
   ]
  },
  {
   "cell_type": "code",
   "execution_count": null,
   "metadata": {},
   "outputs": [],
   "source": [
    "#stacking\n",
    "lr.fit(X_train_level2, y_train_level2)"
   ]
  },
  {
   "cell_type": "code",
   "execution_count": null,
   "metadata": {},
   "outputs": [],
   "source": [
    "test_preds = lr.predict(X_test_level2)\n",
    "mse = mean_squared_error(test_preds, y_test, squared=False)\n",
    "print(mse)"
   ]
  }
 ],
 "metadata": {
  "kernelspec": {
   "display_name": "Python 3",
   "language": "python",
   "name": "python3"
  },
  "language_info": {
   "codemirror_mode": {
    "name": "ipython",
    "version": 3
   },
   "file_extension": ".py",
   "mimetype": "text/x-python",
   "name": "python",
   "nbconvert_exporter": "python",
   "pygments_lexer": "ipython3",
   "version": "3.6.5"
  }
 },
 "nbformat": 4,
 "nbformat_minor": 4
}
